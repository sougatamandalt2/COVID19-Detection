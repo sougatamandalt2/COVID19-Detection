{
 "cells": [
  {
   "cell_type": "code",
   "execution_count": 1,
   "metadata": {},
   "outputs": [],
   "source": [
    "import torch\n",
    "import torchvision.models as models\n",
    "from torchvision import datasets\n",
    "from torch.utils.data import DataLoader\n",
    "import torchvision.transforms as transforms\n",
    "from PIL import ImageFile\n",
    "from PIL import Image\n",
    "import torch.nn as nn\n",
    "import torch.nn.functional as F\n",
    "import torch.optim as optim\n",
    "import matplotlib.pyplot as plt\n",
    "import numpy as np\n",
    "import os"
   ]
  },
  {
   "cell_type": "code",
   "execution_count": 2,
   "metadata": {},
   "outputs": [],
   "source": [
    "train_data_dir = r'C://Users//AniRoy//Desktop//ML Project1//Mini_Project-master//covid detection//covid//train6'\n",
    "valid_data_dir = r'C://Users//AniRoy//Desktop//ML Project1//Mini_Project-master//covid detection//covid//validation6'\n",
    "test_data_dir = r'C://Users//AniRoy//Desktop//ML Project1//Mini_Project-master//covid detection//covid//test6'"
   ]
  },
  {
   "cell_type": "code",
   "execution_count": 3,
   "metadata": {},
   "outputs": [],
   "source": [
    "# num_class = 2\n",
    "# image_dim = 224\n",
    "batch_size = 8"
   ]
  },
  {
   "cell_type": "code",
   "execution_count": 4,
   "metadata": {},
   "outputs": [],
   "source": [
    "ImageFile.LOAD_TRUNCATED_IMAGES = True\n",
    "\n",
    "train_data_transform = transforms.Compose([transforms.Resize(244),\n",
    "                                           transforms.CenterCrop(224),\n",
    "                                           transforms.RandomRotation(10),                                          \n",
    "                                           transforms.RandomHorizontalFlip(),\n",
    "                                           transforms.ToTensor(),\n",
    "                                           transforms.Normalize(mean=0.485,\n",
    "                                                                std=0.229)])\n",
    "\n",
    "valid_data_transform = transforms.Compose([transforms.Resize(244),\n",
    "                                           transforms.CenterCrop(224),\n",
    "                                           transforms.ToTensor(),\n",
    "                                           transforms.Normalize(mean= 0.485 ,std= 0.229)])\n",
    "\n",
    "test_data_transform = transforms.Compose([transforms.Resize(224),\n",
    "                                           transforms.CenterCrop(224),\n",
    "                                           transforms.ToTensor(),\n",
    "                                           transforms.Normalize(mean= 0.485,\n",
    "                                                                std= 0.229)])\n",
    "\n",
    "train_data = datasets.ImageFolder(train_data_dir, transform=train_data_transform)\n",
    "valid_data = datasets.ImageFolder(valid_data_dir, transform=valid_data_transform)\n",
    "test_data = datasets.ImageFolder(test_data_dir, transform=test_data_transform)\n",
    "train_data_load = DataLoader(train_data, batch_size = batch_size, shuffle = True)\n",
    "valid_data_load = DataLoader(valid_data, batch_size = batch_size, shuffle = True)\n",
    "test_data_load = DataLoader(test_data,batch_size=batch_size, shuffle = True)"
   ]
  },
  {
   "cell_type": "code",
   "execution_count": 5,
   "metadata": {},
   "outputs": [],
   "source": [
    "use_cuda = torch.cuda.is_available()"
   ]
  },
  {
   "cell_type": "code",
   "execution_count": 6,
   "metadata": {},
   "outputs": [
    {
     "data": {
      "text/plain": [
       "25"
      ]
     },
     "execution_count": 6,
     "metadata": {},
     "output_type": "execute_result"
    }
   ],
   "source": [
    "len(valid_data_load)"
   ]
  },
  {
   "cell_type": "code",
   "execution_count": 7,
   "metadata": {},
   "outputs": [],
   "source": [
    "loaders_transfer = {'train': train_data_load, 'valid': valid_data_load, 'test': test_data_load}"
   ]
  },
  {
   "cell_type": "code",
   "execution_count": 8,
   "metadata": {},
   "outputs": [],
   "source": [
    "model_transfer = models.resnet18(pretrained=True)\n",
    "model_transfer.out = nn.Linear(2048, 2)\n",
    "\n",
    "if use_cuda:\n",
    "    model_transfer = model_transfer.cuda() "
   ]
  },
  {
   "cell_type": "code",
   "execution_count": 9,
   "metadata": {},
   "outputs": [],
   "source": [
    "criterion_transfer = nn.CrossEntropyLoss()\n",
    "optimizer_transfer = optim.Adam(model_transfer.parameters(), lr=0.001)"
   ]
  },
  {
   "cell_type": "code",
   "execution_count": 10,
   "metadata": {},
   "outputs": [],
   "source": [
    "tl,vl,ta=[],[],[]\n",
    "def train(n_epochs, loaders, model, optimizer, criterion, use_cuda, save_path):\n",
    "    \"\"\"returns trained model\"\"\"\n",
    "    # initialize tracker for minimum validation loss\n",
    "    valid_loss_min = np.Inf \n",
    "    \n",
    "    for epoch in range(1, n_epochs+1):\n",
    "        train_loss = 0.0\n",
    "        valid_loss = 0.0\n",
    "        \n",
    "        correct=0\n",
    "        total=0\n",
    "\n",
    "        model.train()\n",
    "        for batch_idx, (data, target) in enumerate(loaders['train']):\n",
    "            if use_cuda:\n",
    "                data, target = data.cuda(), target.cuda()\n",
    "            optimizer.zero_grad()\n",
    "            out = model(data)\n",
    "            \n",
    "            loss = criterion(out, target)\n",
    "            \n",
    "            loss.backward()\n",
    "            optimizer.step()\n",
    "            train_loss += ((1/(batch_idx + 1)) * (loss.data - train_loss))\n",
    "            \n",
    "            _, predicted = out.max(1)\n",
    "            total += target.size(0)\n",
    "            correct += predicted.eq(target).sum().item()\n",
    "\n",
    "        model.eval()\n",
    "        for batch_idx, (data, target) in enumerate(loaders['valid']):\n",
    "            if use_cuda:\n",
    "                data, target = data.cuda(), target.cuda()\n",
    "            out = model(data)\n",
    "            \n",
    "            loss = criterion(out, target)\n",
    "            valid_loss += ((1/(batch_idx + 1)) * (loss.data - valid_loss))\n",
    "            \n",
    "        ta.append(100. * correct/total) \n",
    "            \n",
    "            \n",
    "        # print training/validation statistics \n",
    "        print('Epoch: {} \\tTraining Loss: {:.5f} \\tValidation Loss: {:.5f}'.format(\n",
    "            epoch, \n",
    "            train_loss,\n",
    "            valid_loss\n",
    "            ))\n",
    "        tl.append(train_loss)\n",
    "        vl.append(valid_loss)\n",
    "        \n",
    "        #save the model if validation loss has decreased\n",
    "        if valid_loss <= valid_loss_min:\n",
    "            print('Valid loss decrease to  ({:.5f} -> {:.5f}). Saving model ...'.format(valid_loss_min,valid_loss))\n",
    "            torch.save(model.state_dict(), save_path)\n",
    "            valid_loss_min = valid_loss\n",
    "   \n",
    "    # return trained model\n",
    "    return model"
   ]
  },
  {
   "cell_type": "code",
   "execution_count": 11,
   "metadata": {},
   "outputs": [
    {
     "name": "stdout",
     "output_type": "stream",
     "text": [
      "Epoch: 1 \tTraining Loss: 1.43123 \tValidation Loss: 0.43990\n",
      "Valid loss decrease to  (inf -> 0.43990). Saving model ...\n",
      "Epoch: 2 \tTraining Loss: 0.42718 \tValidation Loss: 0.31330\n",
      "Valid loss decrease to  (0.43990 -> 0.31330). Saving model ...\n",
      "Epoch: 3 \tTraining Loss: 0.34155 \tValidation Loss: 0.25245\n",
      "Valid loss decrease to  (0.31330 -> 0.25245). Saving model ...\n",
      "Epoch: 4 \tTraining Loss: 0.40433 \tValidation Loss: 0.35647\n",
      "Epoch: 5 \tTraining Loss: 0.27897 \tValidation Loss: 0.66477\n",
      "Epoch: 6 \tTraining Loss: 0.28316 \tValidation Loss: 0.21470\n",
      "Valid loss decrease to  (0.25245 -> 0.21470). Saving model ...\n",
      "Epoch: 7 \tTraining Loss: 0.27980 \tValidation Loss: 0.26040\n",
      "Epoch: 8 \tTraining Loss: 0.31700 \tValidation Loss: 0.34952\n",
      "Epoch: 9 \tTraining Loss: 0.31627 \tValidation Loss: 0.25830\n",
      "Epoch: 10 \tTraining Loss: 0.29451 \tValidation Loss: 0.44893\n",
      "Epoch: 11 \tTraining Loss: 0.28514 \tValidation Loss: 0.21968\n",
      "Epoch: 12 \tTraining Loss: 0.28421 \tValidation Loss: 0.23498\n",
      "Epoch: 13 \tTraining Loss: 0.33980 \tValidation Loss: 0.25069\n",
      "Epoch: 14 \tTraining Loss: 0.26658 \tValidation Loss: 0.34454\n",
      "Epoch: 15 \tTraining Loss: 0.20983 \tValidation Loss: 0.25873\n",
      "Epoch: 16 \tTraining Loss: 0.18441 \tValidation Loss: 0.26081\n",
      "Epoch: 17 \tTraining Loss: 0.28866 \tValidation Loss: 0.18519\n",
      "Valid loss decrease to  (0.21470 -> 0.18519). Saving model ...\n",
      "Epoch: 18 \tTraining Loss: 0.27914 \tValidation Loss: 0.15036\n",
      "Valid loss decrease to  (0.18519 -> 0.15036). Saving model ...\n",
      "Epoch: 19 \tTraining Loss: 0.20060 \tValidation Loss: 0.15182\n",
      "Epoch: 20 \tTraining Loss: 0.19776 \tValidation Loss: 0.15253\n",
      "Epoch: 21 \tTraining Loss: 0.21582 \tValidation Loss: 0.32822\n",
      "Epoch: 22 \tTraining Loss: 0.27793 \tValidation Loss: 0.10647\n",
      "Valid loss decrease to  (0.15036 -> 0.10647). Saving model ...\n",
      "Epoch: 23 \tTraining Loss: 0.21096 \tValidation Loss: 0.19817\n",
      "Epoch: 24 \tTraining Loss: 0.17963 \tValidation Loss: 0.15009\n",
      "Epoch: 25 \tTraining Loss: 0.19006 \tValidation Loss: 0.10490\n",
      "Valid loss decrease to  (0.10647 -> 0.10490). Saving model ...\n",
      "Epoch: 26 \tTraining Loss: 0.22772 \tValidation Loss: 0.09113\n",
      "Valid loss decrease to  (0.10490 -> 0.09113). Saving model ...\n",
      "Epoch: 27 \tTraining Loss: 0.20426 \tValidation Loss: 0.09657\n",
      "Epoch: 28 \tTraining Loss: 0.16610 \tValidation Loss: 0.08788\n",
      "Valid loss decrease to  (0.09113 -> 0.08788). Saving model ...\n",
      "Epoch: 29 \tTraining Loss: 0.18311 \tValidation Loss: 0.15698\n",
      "Epoch: 30 \tTraining Loss: 0.06937 \tValidation Loss: 0.85595\n",
      "Epoch: 31 \tTraining Loss: 0.17609 \tValidation Loss: 0.10490\n",
      "Epoch: 32 \tTraining Loss: 0.20588 \tValidation Loss: 0.12943\n",
      "Epoch: 33 \tTraining Loss: 0.12900 \tValidation Loss: 0.10295\n",
      "Epoch: 34 \tTraining Loss: 0.24886 \tValidation Loss: 0.42473\n",
      "Epoch: 35 \tTraining Loss: 0.18962 \tValidation Loss: 0.14140\n",
      "Epoch: 36 \tTraining Loss: 0.17385 \tValidation Loss: 0.07313\n",
      "Valid loss decrease to  (0.08788 -> 0.07313). Saving model ...\n",
      "Epoch: 37 \tTraining Loss: 0.16490 \tValidation Loss: 0.05042\n",
      "Valid loss decrease to  (0.07313 -> 0.05042). Saving model ...\n",
      "Epoch: 38 \tTraining Loss: 0.10907 \tValidation Loss: 0.04924\n",
      "Valid loss decrease to  (0.05042 -> 0.04924). Saving model ...\n",
      "Epoch: 39 \tTraining Loss: 0.11021 \tValidation Loss: 0.06136\n",
      "Epoch: 40 \tTraining Loss: 0.09266 \tValidation Loss: 0.08351\n",
      "Epoch: 41 \tTraining Loss: 0.15547 \tValidation Loss: 0.15984\n",
      "Epoch: 42 \tTraining Loss: 0.18258 \tValidation Loss: 0.06499\n",
      "Epoch: 43 \tTraining Loss: 0.15999 \tValidation Loss: 0.05966\n",
      "Epoch: 44 \tTraining Loss: 0.12268 \tValidation Loss: 0.06810\n",
      "Epoch: 45 \tTraining Loss: 0.17802 \tValidation Loss: 0.07865\n"
     ]
    }
   ],
   "source": [
    "n_epochs = 45\n",
    "model_transfer = train(n_epochs, loaders_transfer, model_transfer, optimizer_transfer, criterion_transfer, use_cuda, 'model_transfer.pt')"
   ]
  },
  {
   "cell_type": "code",
   "execution_count": 12,
   "metadata": {},
   "outputs": [
    {
     "data": {
      "text/plain": [
       "<matplotlib.legend.Legend at 0x5b69888>"
      ]
     },
     "execution_count": 12,
     "metadata": {},
     "output_type": "execute_result"
    },
    {
     "data": {
      "image/png": "[encoded data removed]",
      "text/plain": [
       "<Figure size 432x288 with 1 Axes>"
      ]
     },
     "metadata": {
      "needs_background": "light"
     },
     "output_type": "display_data"
    }
   ],
   "source": [
    "tl1=[]\n",
    "vl1=[]\n",
    "a=[]\n",
    "for i in tl:\n",
    "    tl1.append(float(i))\n",
    "for i in vl:\n",
    "    vl1.append(float(i))\n",
    "for i in range(1,46):\n",
    "    a.append(i)\n",
    "plt.plot(a,tl1,label='training loss')\n",
    "plt.plot(a,vl1,label='validation loss')\n",
    "plt.legend()"
   ]
  },
  {
   "cell_type": "code",
   "execution_count": 13,
   "metadata": {},
   "outputs": [
    {
     "data": {
      "text/plain": [
       "92.33333333333333"
      ]
     },
     "execution_count": 13,
     "metadata": {},
     "output_type": "execute_result"
    },
    {
     "data": {
      "image/png": "[encoded data removed]",
      "text/plain": [
       "<Figure size 432x288 with 1 Axes>"
      ]
     },
     "metadata": {
      "needs_background": "light"
     },
     "output_type": "display_data"
    }
   ],
   "source": [
    "ta1=[]\n",
    "for i in ta:\n",
    "    ta1.append(float(i))\n",
    "plt.plot(a,ta1,label='training accuracy')\n",
    "plt.legend()\n",
    "ta1[-1]"
   ]
  },
  {
   "cell_type": "code",
   "execution_count": 14,
   "metadata": {},
   "outputs": [
    {
     "data": {
      "text/plain": [
       "<All keys matched successfully>"
      ]
     },
     "execution_count": 14,
     "metadata": {},
     "output_type": "execute_result"
    }
   ],
   "source": [
    "model_transfer.load_state_dict(torch.load('model_transfer.pt'))"
   ]
  },
  {
   "cell_type": "code",
   "execution_count": 15,
   "metadata": {},
   "outputs": [],
   "source": [
    "testa,testl=[],[]\n",
    "def test(loaders, model, criterion, use_cuda):\n",
    "\n",
    "    test_loss = 0.\n",
    "    correct = 0.\n",
    "    total = 0.\n",
    "\n",
    "    model.eval()\n",
    "    for batch_idx, (data, target) in enumerate(loaders['test']):\n",
    "        if use_cuda:\n",
    "            data, target = data.cuda(), target.cuda()\n",
    "        output = model(data)\n",
    "        loss = criterion(output, target) \n",
    "        test_loss = test_loss + ((1 / (batch_idx + 1)) * (loss.data - test_loss))\n",
    "        pred = output.data.max(1, keepdim=True)[1]\n",
    "        correct += np.sum(np.squeeze(pred.eq(target.data.view_as(pred))).cpu().numpy())\n",
    "        total += data.size(0)\n",
    "            \n",
    "        print('Test Loss: {:.6f}\\n'.format(test_loss))\n",
    "        testl.append(float(test_loss))\n",
    "\n",
    "        print('\\nTest Accuracy: %2d%% (%2d/%2d)' % (\n",
    "            100. * correct / total, correct, total))\n",
    "        testa.append(100. * correct / total)\n",
    "        print('')"
   ]
  },
  {
   "cell_type": "code",
   "execution_count": 16,
   "metadata": {},
   "outputs": [
    {
     "name": "stdout",
     "output_type": "stream",
     "text": [
      "Test Loss: 0.036589\n",
      "\n",
      "\n",
      "Test Accuracy: 100% ( 8/ 8)\n",
      "\n",
      "Test Loss: 0.254093\n",
      "\n",
      "\n",
      "Test Accuracy: 93% (15/16)\n",
      "\n",
      "Test Loss: 0.201309\n",
      "\n",
      "\n",
      "Test Accuracy: 91% (22/24)\n",
      "\n",
      "Test Loss: 0.154684\n",
      "\n",
      "\n",
      "Test Accuracy: 93% (30/32)\n",
      "\n",
      "Test Loss: 0.124281\n",
      "\n",
      "\n",
      "Test Accuracy: 95% (38/40)\n",
      "\n",
      "Test Loss: 0.106129\n",
      "\n",
      "\n",
      "Test Accuracy: 95% (46/48)\n",
      "\n",
      "Test Loss: 0.093608\n",
      "\n",
      "\n",
      "Test Accuracy: 96% (54/56)\n",
      "\n",
      "Test Loss: 0.093293\n",
      "\n",
      "\n",
      "Test Accuracy: 96% (62/64)\n",
      "\n",
      "Test Loss: 0.086448\n",
      "\n",
      "\n",
      "Test Accuracy: 97% (70/72)\n",
      "\n",
      "Test Loss: 0.090792\n",
      "\n",
      "\n",
      "Test Accuracy: 97% (78/80)\n",
      "\n",
      "Test Loss: 0.085128\n",
      "\n",
      "\n",
      "Test Accuracy: 97% (86/88)\n",
      "\n",
      "Test Loss: 0.114536\n",
      "\n",
      "\n",
      "Test Accuracy: 96% (93/96)\n",
      "\n",
      "Test Loss: 0.106520\n",
      "\n",
      "\n",
      "Test Accuracy: 97% (101/104)\n",
      "\n",
      "Test Loss: 0.103180\n",
      "\n",
      "\n",
      "Test Accuracy: 97% (109/112)\n",
      "\n",
      "Test Loss: 0.105635\n",
      "\n",
      "\n",
      "Test Accuracy: 96% (116/120)\n",
      "\n",
      "Test Loss: 0.106664\n",
      "\n",
      "\n",
      "Test Accuracy: 96% (123/128)\n",
      "\n",
      "Test Loss: 0.100566\n",
      "\n",
      "\n",
      "Test Accuracy: 96% (131/136)\n",
      "\n",
      "Test Loss: 0.109384\n",
      "\n",
      "\n",
      "Test Accuracy: 95% (138/144)\n",
      "\n",
      "Test Loss: 0.104339\n",
      "\n",
      "\n",
      "Test Accuracy: 96% (146/152)\n",
      "\n",
      "Test Loss: 0.100076\n",
      "\n",
      "\n",
      "Test Accuracy: 96% (154/160)\n",
      "\n",
      "Test Loss: 0.102905\n",
      "\n",
      "\n",
      "Test Accuracy: 95% (161/168)\n",
      "\n",
      "Test Loss: 0.107038\n",
      "\n",
      "\n",
      "Test Accuracy: 95% (168/176)\n",
      "\n",
      "Test Loss: 0.117301\n",
      "\n",
      "\n",
      "Test Accuracy: 94% (174/184)\n",
      "\n",
      "Test Loss: 0.116224\n",
      "\n",
      "\n",
      "Test Accuracy: 94% (182/192)\n",
      "\n",
      "Test Loss: 0.115450\n",
      "\n",
      "\n",
      "Test Accuracy: 95% (190/200)\n",
      "\n"
     ]
    }
   ],
   "source": [
    "test(loaders_transfer, model_transfer, criterion_transfer, use_cuda)"
   ]
  },
  {
   "cell_type": "code",
   "execution_count": 17,
   "metadata": {},
   "outputs": [
    {
     "data": {
      "text/plain": [
       "<matplotlib.legend.Legend at 0x5ab82c8>"
      ]
     },
     "execution_count": 17,
     "metadata": {},
     "output_type": "execute_result"
    },
    {
     "data": {
      "image/png": "[encoded data removed]",
      "text/plain": [
       "<Figure size 432x288 with 1 Axes>"
      ]
     },
     "metadata": {
      "needs_background": "light"
     },
     "output_type": "display_data"
    }
   ],
   "source": [
    "testl1=[]\n",
    "a=[]\n",
    "for i in testl:\n",
    "    testl1.append(float(i))\n",
    "for i in range(len(testl1)):\n",
    "    a.append(i+1)\n",
    "plt.plot(a,testl1,label='testing loss')\n",
    "plt.legend()"
   ]
  },
  {
   "cell_type": "code",
   "execution_count": 19,
   "metadata": {},
   "outputs": [
    {
     "name": "stdout",
     "output_type": "stream",
     "text": [
      "95.0\n"
     ]
    },
    {
     "data": {
      "text/plain": [
       "<matplotlib.legend.Legend at 0x5a96c08>"
      ]
     },
     "execution_count": 19,
     "metadata": {},
     "output_type": "execute_result"
    },
    {
     "data": {
      "image/png": "[encoded data removed]",
      "text/plain": [
       "<Figure size 432x288 with 1 Axes>"
      ]
     },
     "metadata": {
      "needs_background": "light"
     },
     "output_type": "display_data"
    }
   ],
   "source": [
    "testa1=[]\n",
    "for i in testa:\n",
    "    testa1.append(float(i))\n",
    "print(testa1[-1])\n",
    "plt.plot(a,testa1,label='testing accuracy')\n",
    "plt.legend()"
   ]
  }
 ],
 "metadata": {
  "kernelspec": {
   "display_name": "Python 3",
   "language": "python",
   "name": "python3"
  },
  "language_info": {
   "codemirror_mode": {
    "name": "ipython",
    "version": 3
   },
   "file_extension": ".py",
   "mimetype": "text/x-python",
   "name": "python",
   "nbconvert_exporter": "python",
   "pygments_lexer": "ipython3",
   "version": "3.7.6"
  }
 },
 "nbformat": 4,
 "nbformat_minor": 4
}
